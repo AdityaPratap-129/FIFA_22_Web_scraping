{
 "cells": [
  {
   "cell_type": "code",
   "execution_count": 1,
   "metadata": {},
   "outputs": [],
   "source": [
    "import requests as rq\n",
    "import bs4 as bs"
   ]
  },
  {
   "cell_type": "code",
   "execution_count": 2,
   "metadata": {},
   "outputs": [],
   "source": [
    "url=\"https://en.wikipedia.org/wiki/2022_FIFA_World_Cup\""
   ]
  },
  {
   "cell_type": "code",
   "execution_count": 3,
   "metadata": {},
   "outputs": [],
   "source": [
    "r=rq.get(url)"
   ]
  },
  {
   "cell_type": "code",
   "execution_count": 4,
   "metadata": {},
   "outputs": [],
   "source": [
    "soup=bs.BeautifulSoup(r.content)"
   ]
  },
  {
   "cell_type": "code",
   "execution_count": 5,
   "metadata": {},
   "outputs": [
    {
     "data": {
      "text/plain": [
       "bs4.element.ResultSet"
      ]
     },
     "execution_count": 5,
     "metadata": {},
     "output_type": "execute_result"
    }
   ],
   "source": [
    "pq=soup.find_all(\"div\",class_=\"div-col\")\n",
    "type(pq)"
   ]
  },
  {
   "cell_type": "code",
   "execution_count": 6,
   "metadata": {},
   "outputs": [
    {
     "name": "stdout",
     "output_type": "stream",
     "text": [
      "['France', 'Argentina', 'Argentina', 'France', 'Brazil', 'Ecuador', 'England', 'England', 'Netherlands', 'Portugal', 'Spain', 'Brazil', 'Cameroon', 'Croatia', 'England', 'Germany', 'Germany', 'Ghana', 'Iran', 'Japan', 'Morocco', 'Netherlands', 'Poland', 'Portugal', 'Portugal', 'Saudi Arabia', 'Serbia', 'South Korea', 'Spain', 'Switzerland', 'Uruguay', 'Argentina', 'Argentina', 'Argentina', 'Argentina', 'Australia', 'Australia', 'Australia', 'Belgium', 'Brazil', 'Brazil', 'Brazil', 'Cameroon', 'Cameroon', 'Canada', 'Costa Rica', 'Costa Rica', 'Costa Rica', 'Croatia', 'Croatia', 'Croatia', 'Croatia', 'Croatia', 'Croatia', 'Denmark', 'Ecuador', 'England', 'England', 'England', 'England', 'England', 'France', 'France', 'France', 'France', 'Germany', 'Germany', 'Ghana', 'Ghana', 'Ghana', 'Iran', 'Iran', 'Japan', 'Japan', 'Japan', 'Mexico', 'Mexico', 'Morocco', 'Morocco', 'Morocco', 'Morocco', 'Netherlands', 'Netherlands', 'Netherlands', 'Netherlands', 'Netherlands', 'Poland', 'Portugal', 'Portugal', 'Portugal', 'Portugal', 'Portugal', 'Qatar', 'Saudi Arabia', 'Senegal', 'Senegal', 'Senegal', 'Senegal', 'Senegal', 'Serbia', 'Serbia', 'Serbia', 'South Korea', 'South Korea', 'South Korea', 'Spain', 'Spain', 'Spain', 'Spain', 'Switzerland', 'Switzerland', 'Switzerland', 'Tunisia', 'United States', 'United States', 'United States', 'Wales']\n"
     ]
    },
    {
     "data": {
      "text/plain": [
       "117"
      ]
     },
     "execution_count": 6,
     "metadata": {},
     "output_type": "execute_result"
    }
   ],
   "source": [
    "country_list=[]\n",
    "for i in range(len(pq)-1):\n",
    "    for j in range(len(pq[i].find_all(\"ul\"))):\n",
    "                   for k in range(len(pq[i].ul.find_all(\"li\"))):\n",
    "                           w=pq[i].ul.find_all(\"li\")\n",
    "                           country_list.append(w[k].span(\"img\")[0]['alt'])\n",
    "                           \n",
    "print(country_list)\n",
    "len(country_list)\n",
    "#print(pq[3].ul.li.span.find_all(\"img\")[0]['alt'])"
   ]
  },
  {
   "cell_type": "code",
   "execution_count": 7,
   "metadata": {},
   "outputs": [],
   "source": [
    "import matplotlib.pyplot as plt\n",
    "import seaborn as sns"
   ]
  },
  {
   "cell_type": "code",
   "execution_count": 8,
   "metadata": {},
   "outputs": [],
   "source": [
    "import pandas as pd"
   ]
  },
  {
   "cell_type": "code",
   "execution_count": 9,
   "metadata": {},
   "outputs": [
    {
     "data": {
      "image/png": "[encoded data removed]",
      "text/plain": [
       "<Figure size 432x288 with 1 Axes>"
      ]
     },
     "metadata": {
      "needs_background": "light"
     },
     "output_type": "display_data"
    }
   ],
   "source": [
    "country_goals={}\n",
    "for i in country_list:\n",
    "    if(i in country_goals):\n",
    "        country_goals[i]+=1\n",
    "    else:\n",
    "        country_goals[i]=1\n",
    "country_goals=sorted(country_goals.items(),key=lambda x:x[1])\n",
    "pts=pd.DataFrame(country_goals)\n",
    "pts.rename(columns={0:\"Country\",1:\"Number of Players Scored\"},inplace=True)\n",
    "graph_players_from_each=sns.barplot(data=pts,x=\"Country\",y=\"Number of Players Scored\",)\n",
    "plt.xticks(rotation=90)\n",
    "plt.show()\n"
   ]
  }
 ],
 "metadata": {
  "kernelspec": {
   "display_name": "Python 3",
   "language": "python",
   "name": "python3"
  },
  "language_info": {
   "codemirror_mode": {
    "name": "ipython",
    "version": 3
   },
   "file_extension": ".py",
   "mimetype": "text/x-python",
   "name": "python",
   "nbconvert_exporter": "python",
   "pygments_lexer": "ipython3",
   "version": "3.10.5"
  },
  "orig_nbformat": 4
 },
 "nbformat": 4,
 "nbformat_minor": 2
}
